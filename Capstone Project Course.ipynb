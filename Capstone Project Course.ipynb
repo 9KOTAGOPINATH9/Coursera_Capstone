{
 "cells": [
  {
   "cell_type": "markdown",
   "id": "9faeb058",
   "metadata": {},
   "source": [
    "This notebook will be mainly used for the capstone project as a part of 'IBM Data Science Proffessional Certification'\n",
    "\n",
    "    Date: '01-07-2021' (DD_MM-YYYY)"
   ]
  },
  {
   "cell_type": "markdown",
   "id": "d438f256",
   "metadata": {},
   "source": [
    "## Importing pandas library"
   ]
  },
  {
   "cell_type": "code",
   "execution_count": 1,
   "id": "598d58b6",
   "metadata": {},
   "outputs": [],
   "source": [
    "import pandas as pd"
   ]
  },
  {
   "cell_type": "markdown",
   "id": "6e765729",
   "metadata": {},
   "source": [
    "## Importing Numpy ibrary"
   ]
  },
  {
   "cell_type": "code",
   "execution_count": 2,
   "id": "83d9b440",
   "metadata": {},
   "outputs": [],
   "source": [
    "import numpy as np"
   ]
  },
  {
   "cell_type": "code",
   "execution_count": 3,
   "id": "ad958398",
   "metadata": {},
   "outputs": [
    {
     "name": "stdout",
     "output_type": "stream",
     "text": [
      "Hello Capstone Project Course!\n"
     ]
    }
   ],
   "source": [
    "print('Hello Capstone Project Course!')"
   ]
  },
  {
   "cell_type": "code",
   "execution_count": null,
   "id": "e51a4853",
   "metadata": {},
   "outputs": [],
   "source": []
  }
 ],
 "metadata": {
  "kernelspec": {
   "display_name": "Python 3",
   "language": "python",
   "name": "python3"
  },
  "language_info": {
   "codemirror_mode": {
    "name": "ipython",
    "version": 3
   },
   "file_extension": ".py",
   "mimetype": "text/x-python",
   "name": "python",
   "nbconvert_exporter": "python",
   "pygments_lexer": "ipython3",
   "version": "3.8.8"
  }
 },
 "nbformat": 4,
 "nbformat_minor": 5
}
